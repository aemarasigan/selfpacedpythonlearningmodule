{
  "nbformat": 4,
  "nbformat_minor": 0,
  "metadata": {
    "colab": {
      "provenance": [],
      "toc_visible": true,
      "include_colab_link": true
    },
    "kernelspec": {
      "name": "python3",
      "display_name": "Python 3"
    },
    "language_info": {
      "name": "python"
    }
  },
  "cells": [
    {
      "cell_type": "markdown",
      "metadata": {
        "id": "view-in-github",
        "colab_type": "text"
      },
      "source": [
        "<a href=\"https://colab.research.google.com/github/aemarasigan/selfpacedpythonlearningmodule/blob/main/Self_Paced_Learning_Module.ipynb\" target=\"_parent\"><img src=\"https://colab.research.google.com/assets/colab-badge.svg\" alt=\"Open In Colab\"/></a>"
      ]
    },
    {
      "cell_type": "markdown",
      "source": [
        "# **Introduction**\n",
        "\n",
        "In this self-paced learning module, you will know how to use Python programming and learn its capabilities to handle complex calculation. You will gain hands-on experience with Python's features and apply these skills to solve problems. This self-paced learning module contains sub-modules you need to finish to be equipped with the foundation Python programming. It is our objective to solve this problem at the end of this module:\n",
        "\n",
        "> Nowadays, mobile gadgets become almost a necessity in our daily lives due to several reasons such as personal, academic, work-related, etc. They provide ease of disseminating information and looking for vast amount of it that are made available globally. In the advent of COVID-19 pandemic, many institutions and communities relied on the use of these gadgets to conduct meetings, to hold classes in the case of academic industries, and communicate with someone close to you or professionally related. Mobile gadgets became our means to make these easily possible.<br><br>\n",
        "Going towards a more particular setting such as in the academe, students rely in mobile gadgets in order to do usual daily academic-related things: scheduling appointments with professors and peers through email, submission of requirements through online platforms, facilitating meetings remotely through specific applications, and many more. Beyond that, they also use mobile gadgets for personal use that help them connect with people and peers personally known to them, get updated with trends and informations relevant to their interest, and even shop or sell online. Students can even access virtual platforms that enable them to earn income without the necessity of physically attending an office. Thus, we cannot deny how much mobile gadgets help students do their tasks more easily than before.<br><br>\n",
        "For students, ease of performing a lot due to online availability of doing it is good, however, with sufficient control into oneself. Recently, some debate that physical or mental health and academic performance arae being compromised; some would say otherwise. In this project, we will try to see if we can observe some connections or associations among students' demographics, mobile phone habits, and self-reported health and performance outcomes. Throughout this self-paced learning module, you will explore the use of Python as a computing and programming language, learn the use of control structures, perform calculations through functions, explore and use modules, packages and libraries, and use them to explore the dataset, calculate important measures, and get some observations through visualization.\n",
        "\n",
        "\n",
        "## **Guide to use the Module**\n",
        "\n",
        "The self-paced learning module is composed of several modules which will guide you throughout the phase of learning the basics of Python programming. It is organized in an order that ensures you to develop necessary skills in order to do more complex results in the succeeding lessons. Hence, you cannot escape a module unless you are knowledgeable with the topics under that module. It is highly advisable to finish the module in the order in which the submodules are provided.\n",
        "\n",
        "**Module 1** lets you first setup Python on your personal computers with Spyder compiler under Anaconda. You will explore the interface of the software and get you familiarize with the functionalities of what you will first see. Afterward, basic Python syntax such as printing of output will be performed. This is followed by learning the different variable types and data structures. At the end of this module, you will execute operations on variables, check the output, and interpret results.\n",
        "\n",
        "In **Module 2**, control structures are presented. This is essential when you want to perform a series of computations within your data that satisfy a pre-determined set of rules dictated by the user. The use of syntax such if, elif, and else are illustrated on a given scenario. To integrate a sequence of computation with a running index, loop structures are shown. Finally, there are also discussion on how important control statements like break, continue, or pass are used."
      ],
      "metadata": {
        "id": "vy1G60kSqAT8"
      }
    },
    {
      "cell_type": "markdown",
      "source": [
        "# **Module 1: Python Programming and Basics**\n",
        "\n",
        "Welcome to Module 1! In this module, you will learn the basics of Python programming, including setting up your environment, understanding Python syntax and indentation, working with variables and data types, and using basic operators. You will be motivated by the story below, finish the module, and answer some activities to solve the problem mentioned herein.\n",
        "\n",
        "\n"
      ],
      "metadata": {
        "id": "9275MbPTpVQt"
      }
    },
    {
      "cell_type": "markdown",
      "source": [
        "## **Getting Started with Python and Spyder in Anaconda**\n",
        "\n",
        "In this section, you will look into the process of setting up Python on your personal computer, exploring the Spyder compiler under the Anaconda distribution, familiarizing yourself with the software's interface and functionalities, and then learning the basics of Python syntax, variable types, and data structures.\n",
        "\n",
        "Python is a popular choice for scientists and researchers because it offers a flexible and robust environment for analyzing data, creating visualizations, and performing complex calculations. Anaconda, on the other hand, is a popular distribution of Python that comes pre-packaged with a wide range of scientific libraries and tools, making it an excellent choice for those interested in scientific programming."
      ],
      "metadata": {
        "id": "LAIxcYf4o4-Z"
      }
    },
    {
      "cell_type": "markdown",
      "source": [
        "## **Setting up Python and Spyder in Anaconda**\n",
        "\n",
        "To begin, you will need to download and install the Anaconda distribution on your personal computer. Anaconda provides a user-friendly way to manage your Python environment and access a libraries and tools which are available for use depending on your need.\n",
        "\n",
        "### **Step 1: Download Anaconda**\n",
        "\n",
        "1. **Visit the Anaconda website:**\n",
        "   Go to the official [Anaconda Download Page](https://www.anaconda.com/products/distribution).\n",
        "\n",
        "2. **Type in your email address:**\n",
        "   You need to provide email address where the link to download will be sent. Click the *Download Now*.\n",
        "\n",
        "3. **Choose your operating system:**\n",
        "   You will see options for Windows, macOS, and Linux. Choose the version appropriate for your operating system.\n",
        "\n",
        "4. **Download the installer:**\n",
        "   - **For Windows users:** Download the \"64-Bit Graphical Installer\".\n",
        "   - **For macOS users:** Choose either the \"Intel\" or \"Apple M1\" version depending on your Mac.\n",
        "   - **For Linux users:** Download the \"64-Bit (x86) Installer\".\n",
        "\n",
        "### **Step 2: Install Anaconda**\n",
        "\n",
        "#### **Windows:**\n",
        "\n",
        "1. Run the installer you downloaded.\n",
        "2. Click **Next** to start the installation process.\n",
        "3. Read and agree to the license agreement by clicking **I Agree**.\n",
        "4. Choose \"Just Me\" or \"All Users\" depending on your preference, then click **Next**.\n",
        "5. Select the installation location and click **Next**.\n",
        "6. Check the option to \"Add Anaconda to my PATH environment variable\" (recommended).\n",
        "7. Click **Install** and wait for the installation to complete.\n",
        "8. Once the installation finishes, click **Finish**.\n",
        "\n",
        "#### **macOS:**\n",
        "\n",
        "1. Open the `.pkg` file you downloaded.\n",
        "2. Follow the on-screen instructions to complete the installation.\n",
        "3. When the installation is complete, close the installer.\n",
        "\n",
        "#### **Linux:**\n",
        "\n",
        "1. Open a terminal.\n",
        "2. Navigate to the directory where the installer was downloaded using the `cd` command.\n",
        "3. Run the following command to install Anaconda:\n",
        "\n",
        "   ```bash\n",
        "   bash Anaconda3-202X.X.X-Linux-x86_64.sh\n",
        "\n",
        "Once you have installed Anaconda, try to open it and you will see the following:\n",
        "\n",
        "![Anaconda Navigator](https://drive.google.com/uc?export=view&id=1OE_Ii6c-Ozt-ugdrRf1heFR4enARuE2g)\n",
        "\n",
        "You will see above that among the choices you have, there is the Spyder compiler. The Spyder compiler is an integrated development environment for Python. Click *Launch Now* to open the studio of Spyder software."
      ],
      "metadata": {
        "id": "Zpv_DAqIpH2n"
      }
    },
    {
      "cell_type": "markdown",
      "source": [
        "## **Exploring the Spyder Interface**\n",
        "\n",
        "When you first open Spyder, you will be greeted with a familiar integrated development environment layout. The interface is divided into several panes, including the code editor, the variable explorer, and the console. This is the interface you will see in the Spyder studio:\n",
        "\n",
        "![Spyder Navigator](https://drive.google.com/uc?export=view&id=15M5HonG-ktdDo5w4b8J049VtzUwLQxv2)\n",
        "\n",
        "### **Code Editor:**\n",
        "Located on the right panel after opening Spyder, the **code editor** is where you will write the a sequence of instructions (we call them \"code\") that tell the computer what to do. These instructions is a set of codes that follows a certain **algorithm** that does some computations. That is, the codes are run one after the other, so it is really important to think about the steps involved.\n",
        "\n",
        "Here is an example of some code, along with the algorithm behind it:\n",
        "\n",
        "----\n",
        "**Algorithm: Bisection Method**\n",
        "\n",
        "1. Input: Function $f$, interval $[a, b]$, tolerance ($tol$).\n",
        "2. Ensure $f(a)$ and $f(b)$ have opposite signs.\n",
        "3. While $\\dfrac{b - a}{2} > tol$:\n",
        "   <ol type = \"A\">\n",
        "    <li> Calculate midpoint $c = \\dfrac{a + b}{2}$. </li>\n",
        "    <li> If $f(c)$ is close to zero (within tolerance): Return $c$ as the approximate root. </li>\n",
        "    <li> Else if $f(c)$ and $f(a)$ have opposite signs: Set $b = c$. </li>\n",
        "    <li> Else ($f(c)$ and $f(b)$ have opposite signs): Set $a = c$. </li>\n",
        "   </ol>\n",
        "4. Return $c$ as the approximate root.\n",
        "----\n",
        "\n",
        "```\n",
        "#Code in Python:\n",
        "\n",
        "def f(x):\n",
        "    return x**3 - x - 2  # Example function\n",
        "\n",
        "def bisection(a, b, tol):\n",
        "    if f(a) * f(b) > 0:\n",
        "        print(\"The function has the same sign at both endpoints.\")\n",
        "        return None\n",
        "\n",
        "    while (b - a) / 2 > tol:\n",
        "        c = (a + b) / 2\n",
        "        if f(c) == 0:  # Found the root\n",
        "            return c\n",
        "        elif f(a) * f(c) < 0:\n",
        "            b = c\n",
        "        else:\n",
        "            a = c\n",
        "\n",
        "    return (a + b) / 2  # Approximate root\n",
        "\n",
        "# Usage\n",
        "a = 1  # Left endpoint of the interval\n",
        "b = 2  # Right endpoint of the interval\n",
        "tolerance = 1e-5\n",
        "root = bisection(a, b, tolerance)\n",
        "\n",
        "if root is not None:\n",
        "    print(f\"The root is approximately: {root}\")\n",
        "\n",
        "```\n",
        "\n",
        "Indentation in Python code is important for several reasons:\n",
        "- To define code blocks. Incorrect indentation results in syntax errors.\n",
        "- Improves readability to make the flow of control structures clearer.\n",
        "- Represents the hierarchy and flow of control, so that that nested blocks are easy to follow.\n",
        "- Helps avoid logical errors and unintended behaviors in the program.\n",
        "- Easier to understand, modify, and debug.\n",
        "\n",
        "Fortunately, in Spyder, indentation is automatic when you type a specific control structure such as loops (```for```, ```while```), conditionals (```if```, ```elif```, ```else```), and function definitions (```def```). After pressing **Enter**, Spyder automatically indents the next line to maintain proper code structure.\n",
        "\n",
        "It can be noticed that there are lines with texts preceeded by '#'. Those are not line of cocdes executed but serves as comments in the code. Lines preceded by # are ignored by the Python interpreter and are used to explain the code, improve readability, or temporarily disable parts of the code without deleting them. Comments help programmers understand the purpose of different code sections.\n",
        "\n",
        "Soon, you will learn how to efficiently insert comments in your code and use the control structures presented above. For now, try typing the code above in your code editor to get a grasp of coding in Python. To run the code, click the **Run Button** located on the upper part of the code editor (green colored 'Play'-like button). Doing this results into an output which is generateed in the console. The console is described below.\n",
        "\n",
        "### **Console:**\n",
        "Think of the **console** as your code's display screen. It is where you see what happens when you run your code, whether it is a small part of it or the whole. You can even do quick calculations right in the console, much like a scientific calculator. The main difference is that you will use special built-in functions to do those calculations. Located on the lower right panel, here is a peek at what it looks like:\n",
        "\n",
        "![Console](https://drive.google.com/uc?export=view&id=1hAvNxAhXt-d3Ors2LtcW3MtrY5InIdfA)\n",
        "\n",
        "In the console, you can perform basic arithmetic operations directly. Here are some common operations:\n",
        "\n",
        "➕ **Addition** *(Combine numbers)*: `5 + 3`  \n",
        "\n",
        "➖ **Subtraction** *(Find the difference)*: `10 - 4`\n",
        "\n",
        "✖️ **Multiplication** *(Get the product)*: `6 * 2`\n",
        "\n",
        "➗ **Division** *(Get the quotient)*: `8 / 2`\n",
        "\n",
        "🔼 **Exponentiation** *(Multiply a number by itself)*: `3 ** 2`\n",
        "\n",
        "📏 **Floor Division** *(Divide and round down)*: `7 // 3`\n",
        "\n",
        "🔁 **Modulus** *(Remainder)*: `10 % 3`\n",
        "\n",
        "Try typing them in your console. Press **Enter** everytime you type the items above. Everytime you press enter, it prints the desired output. In the succeeding section, you will learn how to store the numbers above and later use them when needed. You will also know the other objects that you can store for future use, perform operations with them, and combine or remove specific elements in the object.\n",
        "\n",
        "\n",
        "### **Variable Explorer:**\n",
        "\n",
        "On the upper right panel, you will see the **variable explorer**. It is where the objects such as lists, strings, single numerical/categorical values, and vectors/matrices/arrays that are stored. It also stores data frame which is like a spreadsheet with multiple rows and columns and with headers, and other objects.\n",
        "\n",
        "In order to store a certain object in the variable explorer, we associate a certain name and equate it with the object we want to store. Usually, it is a name that is easy to remember and related to what is being stored. Below are the **types of variables** in Python that you will usually encounter. To store them, type in the console the desired name and equate it with the object:\n",
        "\n",
        "- *Numeric Variables:* Include integers (```int```), floating-point numbers (```float```), and complex numbers (```complex```):\n",
        "```\n",
        "x = 10      # int\n",
        "y = 3.14    # float\n",
        "z = 2 + 3j  # complex\n",
        "```\n",
        "- *String Variables:* Used to store text data:\n",
        "```\n",
        "name = \"Python\"\n",
        "```\n",
        "- *Boolean Variables:* Store ```True``` or ```False``` values:\n",
        "```\n",
        "is_active = True\n",
        "```\n",
        "- *List Variables:* Ordered collections of elements that can be modified:\n",
        "```\n",
        "numbers = [1, 2, 3, 4, 5]\n",
        "```\n",
        "- *Tuple Variables:* Ordered collections of elements that cannot be modified:\n",
        "```\n",
        "coordinates = (10, 20)\n",
        "```\n",
        "- *Dictionary Variables:* Store key-value pairs:\n",
        "```\n",
        "student = {\"name\": \"Alice\", \"age\": 20}\n",
        "```\n",
        "- *Set Variables:* Unordered collections of unique elements:\n",
        "```\n",
        "unique_numbers = {1, 2, 3, 4}\n",
        "```\n",
        "- *Matrix Representation:* Used for 2D data structures:\n",
        "```\n",
        "matrix = [[1, 2, 3], [4, 5, 6], [7, 8, 9]]\n",
        "```\n",
        "The objects defined above are clearly equated with a certain name.\n",
        "\n",
        "Among these, there is what we call a *data frame*. This is how it looks:\n",
        "```\n",
        "   Name   Age  Score\n",
        "0  Alice   20     85\n",
        "1  Bob     22     90\n",
        "2  Charlie 21     88\n",
        "```\n",
        "It is mainly used for storing and organizing structured data in rows and columns, similar to a spreadsheet. In order to produce a data frame above, you may execute the following in your code editor:\n",
        "```\n",
        "# Create a data frame using a list of dictionaries\n",
        "data_frame = [\n",
        "    {\"Name\": \"Alice\", \"Age\": 20, \"Score\": 85},\n",
        "    {\"Name\": \"Bob\", \"Age\": 22, \"Score\": 90},\n",
        "    {\"Name\": \"Charlie\", \"Age\": 21, \"Score\": 88}\n",
        "]\n",
        "\n",
        "# Displaying the data frame\n",
        "for row in data_frame:\n",
        "    print(row)\n",
        "```\n",
        "Later on, you will encounter cases where you need a certain **module** to run built-in functions or access specialized functionalities. This provides predefined functions that save time and improve efficiency. Instead of writing everything from scratch, you can import a module and use its functions.\n",
        "\n",
        "For example, the module **pandas** is widely used for handling structured data efficiently. The same data frame above can be generated using the functionalities in this module by executing the following code in the console:\n",
        "```\n",
        "import pandas as pd\n",
        "\n",
        "# To 'import' means bringing in the module so you can use its functions and tools in your program.\n",
        "# To 'import as' means giving a module a shorter or custom name to make it easier to use.\n",
        "\n",
        "data = {\n",
        "    \"Name\": [\"Alice\", \"Bob\", \"Charlie\"],\n",
        "    \"Age\": [20, 22, 21],\n",
        "    \"Score\": [85, 90, 88]\n",
        "}\n",
        "\n",
        "# The object 'data' above will be stored as dictionary.\n",
        "\n",
        "# The order in which you list the objects in the data frame determines how they appear in rows and columns.\n",
        "\n",
        "df = pd.DataFrame(data)\n",
        "\n",
        "# Tha above line of command is how you transform 'data' into a data frame.\n",
        "\n",
        "print(df)\n",
        "```\n",
        "When you type all the objects above including the whole code for the data frame, the objects are stored in this manner:\n",
        "\n",
        "![Variable Explorer](https://drive.google.com/uc?export=view&id=1YjcFYCN5T_De_HefElg3K5-bnqWm2N7t)\n",
        "\n",
        "The name, type, size, and an excerpt of the elements of the object are provided there. Hence, it is easy to check the variable type of an object stored here. For one reason, it is needed because different operations and functions behave differently depending on the variable type. For instance, mathematical operations apply to numerical data, while string operations work on text-based data. Ensuring the correct variable type prevents errors and allows for efficient data manipulation."
      ],
      "metadata": {
        "id": "5Wo-k0P9pxYU"
      }
    },
    {
      "cell_type": "markdown",
      "source": [
        "## <font color=red> **Project**</font>\n",
        "\n",
        "You will find along with this material a .csv file containing the dataset on student's demographics such as their age, sex, scholarship status, internet access type, monthly allowance, and average weekly study hours. The file also contains the primary purpose of mobile gadget use, commonly used online media platform, preferred social media platform, average screen time per day, and money spent on mobile data per month. And pertainin to health, the file contains self-rated physical health, self-rated mental health, sleep quality, average sleep duration, and recent general weighted average, number of days feeling stressed in a week. Import the dataset as a dataframe using `pandas` module. How do you think will Python categorize the data types you have per variables? Can you classify them by looking at each variable?"
      ],
      "metadata": {
        "id": "wmFhxVYQcjp1"
      }
    },
    {
      "cell_type": "markdown",
      "source": [
        "# **Module 2: Control Structures**\n",
        "\n",
        "Welcome to Module 2! In this module, you will learn the different control structures and their syntax. The conditional control structures enable the user to execute a command such as perform operations on objects if one or even more conditions are met. In order to do that, the user declares the conditions beforehand and declare the consequences once the conditions are satisfied. This is important for numerous reasons which will become more evident as we progress and finish this module. At the end, the user can efficiently run a block of code conditionally using Python's control structures.\n",
        "\n",
        "Secondly, you will also execute looping control structures, which allow blocks of code to run repeatedly based on specific conditions or over a sequence of values. This is important when performing tasks like processing large datasets, automating repetitive computations, or scanning through elements of a list, file, or matrix. By the end of this module, you will be able to implement both conditional and looping structures in solving a wide variety of problems."
      ],
      "metadata": {
        "id": "ZpxxnLPBzFH-"
      }
    },
    {
      "cell_type": "markdown",
      "source": [
        "## **Learning Outcomes**\n",
        "\n",
        "At the end of this module, you should be able to:\n",
        "1. explain the syntax of Python's conditional and looping control structures and its purpose;\n",
        "2. implement conditional statements to execute code blocks based on one or more specified conditions; and\n",
        "3. write Python programs that use loops to automate repetitive tasks and process sequences efficiently.\n",
        "\n"
      ],
      "metadata": {
        "id": "SXeYJ1wMcjb2"
      }
    },
    {
      "cell_type": "markdown",
      "source": [
        "## **Boolean Data and Logical Structures**\n",
        "\n",
        "Before delving into the control structures, it is important to learn Boolean structures and logical operators. The former is important to understand how the control structures receive information and later execute or not a specific command. while the latter provides way to combine or modify Boolean expressions.\n",
        "\n",
        "As mentioned above, data of Boolean type can only have two specific values: `True` and `False`. For instance, this is the typical outcome when comparisons are made such as equality or inequality between two objects or values are made.\n",
        "\n",
        "To illustrate, try typing `5>3` in the console and press *enter*. What output did you get? How about when you type and press *enter* `\"hello\"==\"Hello\"`? Since the output is a data structure, you can store them in a variable. Suppose you want to store the outcome of `\"hello\"==\"Hello\"` in a variable, say $x$, then just type and press *enter* the following code in the console: `x = \"hello\"==\"Hello\"`.\n",
        "\n",
        "Provided below are the operators that can be used to compare two objects and values and returns a Boolean result.\n",
        "- `==`: equality\n",
        "- `!=`: not equal\n",
        "- `<`: less than\n",
        "- `<=`: less than or equal\n",
        "- `>`: greater than\n",
        "- `>=`: greater than or equal\n",
        "\n",
        "Let us try to see how they are used and result to a Boolean value. Try typing the following code line-by-line in the console:"
      ],
      "metadata": {
        "id": "q4dkwnhPqgap"
      }
    },
    {
      "cell_type": "code",
      "source": [
        "x = 5\n",
        "y = 10\n",
        "\n",
        "print(x == y)\n",
        "print(x != y)\n",
        "print(x < y)\n",
        "print(x <= y)\n",
        "print(x > y)\n",
        "print(x >= y)"
      ],
      "metadata": {
        "id": "Ghy9EmwQX3Ha"
      },
      "execution_count": null,
      "outputs": []
    },
    {
      "cell_type": "markdown",
      "source": [
        "***Question:*** What are the outputs?\n",
        "\n",
        "***Caution:*** The equal sign `=` is used to assign a value to a variable. It is different from the comparative operator `==``.\n",
        "\n",
        "Let us now consider the case when we want to combine two or more Boolean values or expressions that results to a Boolean value. The **logical operators** come at hand to do the combinations. They are easy to remember and use since their rules are the same as how we use it in logic and reasoning. Below are the operators that can be used:\n",
        "- `and`: returns `True` if both operands are `True',, otherwise, `False`\n",
        "- `or`: returns `True` if at least one operand is `True`, otherwise, `False`\n",
        "- `not`: returns the opposite Boolean value of the operand\n",
        "\n",
        "Using the same `x` and `y` as above, try to execute the following:"
      ],
      "metadata": {
        "id": "G4_2dME7YAza"
      }
    },
    {
      "cell_type": "code",
      "source": [
        "print(x>6 and y<=10)\n",
        "print(x!=5 or y==10)\n",
        "print(not(x*y == 50))"
      ],
      "metadata": {
        "id": "SAtm_ETIYCwc"
      },
      "execution_count": null,
      "outputs": []
    },
    {
      "cell_type": "markdown",
      "source": [
        "What outputs did you get?\n",
        "\n",
        "Now, we are ready to learn about control structures in the succeeding lessons."
      ],
      "metadata": {
        "id": "PRa721W_YDYz"
      }
    },
    {
      "cell_type": "markdown",
      "source": [
        "### **Try These!**\n",
        "\n",
        "1. Predict the output before running the code, then check if you were correct.\n",
        "  ```python\n",
        "  a = \"Python\"\n",
        "  b = \"python\"\n",
        "  c = 7\n",
        "  d = 7.0\n",
        "\n",
        "  print(a == b)\n",
        "  print(c == d)\n",
        "  print(a != b or c < d)\n",
        "  print(not (c >= d and a != b))\n",
        "  ```\n",
        "  **Question:** Which comparisons evaluate to `True`, and why?\n",
        "\n",
        "2. You have three variables:\n",
        "  ```python\n",
        "  x = 15\n",
        "  y = 20\n",
        "  z = 25\n",
        "  ```\n",
        "  Write Python expressions (and compute their values) for the following:\n",
        "  - Check if $x < y$ and $y < z$.\n",
        "  - Check if $x + y = z$ or $z - y = x$.\n",
        "  - Check if it is not the case that $x > 10$ and $z < 30$.\n",
        "\n",
        "3. Below are three Python statements that are intended to work, but each contains at least one mistake. Your task is to:\n",
        "  - Identify what is wrong in each line.\n",
        "  - Write the corrected version of each line.\n",
        "  - Run the corrected code to check that it works.\n",
        "  ```python\n",
        "  # Line 1\n",
        "  result = True and not False or\n",
        "  # Line 2\n",
        "  x == 10 > 5\n",
        "  # Line 3\n",
        "  y = (5 < 3) and (or 7 > 2)\n",
        "  ```\n",
        "\n",
        "  **Questions:**\n",
        "  - What are the syntax or logic errors in each line?\n",
        "  - What is the correct version of each?\n",
        "  - What does each corrected line evaluate to?"
      ],
      "metadata": {
        "id": "GWhv6ipLeWZI"
      }
    },
    {
      "cell_type": "markdown",
      "source": [
        "## **Conditional Structures**\n",
        "\n",
        "In this section, you will learn a program to make decisions and execute certain blocks of code based on whether a condition is true or false. In Python, this is done using the `if`, `elif`, and `else` statements. These structures enable the program to respond differently to different conditions or situations. Conditional control structures are used for building logical and flexible programs."
      ],
      "metadata": {
        "id": "i4QYazN6qvCY"
      }
    },
    {
      "cell_type": "markdown",
      "source": [
        "### ***'if'* Statement**\n",
        "\n",
        "The `if` statement is used to check the Boolean value of a certain expression and performs or not the indented command just below the `if` statement. If the expression is `True`, the succeeding (set of commands) are executed, otherwise, nothing will happen.\n",
        "\n",
        "To see this, try typing the following:"
      ],
      "metadata": {
        "id": "-7yl_KHEanc2"
      }
    },
    {
      "cell_type": "code",
      "source": [
        "x = 5\n",
        "y = 10\n",
        "\n",
        "if x > 4 and y > 9:\n",
        "    print(\"This is printed.\")\n",
        "\n",
        "if x < 4 or y < 9:\n",
        "    print(\"This is not printed.\")"
      ],
      "metadata": {
        "id": "7jMt9lLfY1n_"
      },
      "execution_count": null,
      "outputs": []
    },
    {
      "cell_type": "markdown",
      "source": [
        "Because `x > 4 and y > 9` is `True`, the succeeding command below it will be performed. The second `if` statement is not performed as the expression `x < 4 or y < 9` is `False`.\n",
        "\n",
        "***Important Reminder:*** Indentation is not optional in Python `if` statements. It is a part of the syntax of the language. Python uses indentation to determine which lines of code are executed when the `if` condition is met.\n",
        "\n",
        "Of course, many commands can be performed as long as they are part of the pool of statements within the same indentation under the `if` expression:"
      ],
      "metadata": {
        "id": "klBysKwWY-Ba"
      }
    },
    {
      "cell_type": "code",
      "source": [
        "if x > 4 and y > 9:\n",
        "    print(\"This is printed.\")\n",
        "    z = x + y\n",
        "    is_value = z>x"
      ],
      "metadata": {
        "id": "XD9UBrbrZB17"
      },
      "execution_count": null,
      "outputs": []
    },
    {
      "cell_type": "markdown",
      "source": [
        "### ***'if elif'* Statement**\n",
        "\n",
        "There are cases when you have two or more conditional expressions and set of commands are executed when some (or, possibly, all) of the conditions are satisfied. For instance, suppose you have a data set containing the classification the individuals based on their BMI categeory and you want to get the average height and weight of those individual if they fall into a specific category. Since there are four major categories: underweight healthy weight, overweight, and obese, there will be four averages. In this case, the conditions are mutually-disoint since an individual cannot fall into two or more BMI categories. For this problem, you can use `if elif` statement.\n",
        "\n",
        "To illustrate, let us consider a simple `if elif` structure:"
      ],
      "metadata": {
        "id": "9FZrjmPlZTJF"
      }
    },
    {
      "cell_type": "code",
      "source": [
        "x = 5\n",
        "y = 10\n",
        "z = 15\n",
        "\n",
        "if x >= 5 and y <= 10:\n",
        "    x = x - z\n",
        "    y = y + 10\n",
        "    z = x + y\n",
        "elif x < 5 and y <= 10:\n",
        "    x = x + 5\n",
        "    y = y + z\n",
        "    z = x - y"
      ],
      "metadata": {
        "id": "k83WqD3vZa-T"
      },
      "execution_count": null,
      "outputs": []
    },
    {
      "cell_type": "markdown",
      "source": [
        "From the given statement above, the indented line of commands that are written after the `if` expression will be executed if the condition (i.e. `x > 5 and y <= 10`) is `True`. Since Python will run the commands sequentially and per line, the variable `x` will be the first to get updated, then the variable `y`. Since `x` and `y` have new values already, `z` is updated by taking it as the sum of the new values for `x` and `y`.\n",
        "\n",
        "Afterward, the program sees if the `elif` condition is also also satisfied, in which the indented line of commands that go after it will also be executed if the underlying condition for that `elif` expression is also satisfied. It is possible, therefore, that the succeeding `elif` line of commands overwrite those preceeding them. For example, consider the following modified code for the `if elif` above:"
      ],
      "metadata": {
        "id": "qj2KBaoEZme4"
      }
    },
    {
      "cell_type": "code",
      "source": [
        "if x >= 5 and y <= 10:\n",
        "    x = x - z\n",
        "    y = y + 10\n",
        "    z = x + y\n",
        "elif x < 5 or y >= 10:\n",
        "    x = x + 5\n",
        "    y = y + z\n",
        "    z = x - y"
      ],
      "metadata": {
        "id": "8Gb52KMFZnsG"
      },
      "execution_count": null,
      "outputs": []
    },
    {
      "cell_type": "markdown",
      "source": [
        "You expect that the first three line of commands will overwrite the values for the variables `x`, `y`, and `z` and anticipate a result which matches the formulas as dictated therein. But in the `elif` expression, `x < 5 or y <= 10` is also `True`. Hence, there will be another update for the values of `x`, `y`, and `z`. Run these codes in the console to verify the results. Therefore, you should be careful when assigning conditions within `if` and `elif` to avoid unintentionally doing this.\n",
        "\n",
        "Now, it is also possible to have more than two `elif` expressions. Consider this example:"
      ],
      "metadata": {
        "id": "ESgQIcS1ZtRZ"
      }
    },
    {
      "cell_type": "code",
      "source": [
        "if x >= 5 and y <= 10:\n",
        "    x = x - z\n",
        "    y = y + 10\n",
        "    z = x + y\n",
        "elif x < 5 and y <= 10:\n",
        "    x = x + 5\n",
        "    y = y + z\n",
        "    z = x - y\n",
        "elif x >= 5 and y > 10:\n",
        "    x = x - 5\n",
        "    y = y - 10\n",
        "    z = x**2 - y**2"
      ],
      "metadata": {
        "id": "nk4cHC9tZy6k"
      },
      "execution_count": null,
      "outputs": []
    },
    {
      "cell_type": "markdown",
      "source": [
        "What output did you get? Try to modify the values of `x` and `y` by overwriting them. Explore more conditions that you can impose."
      ],
      "metadata": {
        "id": "36cDyZzgZ6y3"
      }
    },
    {
      "cell_type": "markdown",
      "source": [
        "### ***'if else'* Statement**\n",
        "\n",
        "The `if else` statement is used when you want to include a command that operates when the condidtions preceeding it are not satisfied. For example, you have a data set which contains details on the performance of students in a course. Your goal is to create a table that includes a remark such as failing or passing depending on his or her final numerical standing. If the numerical standing falls below 60, a remark \"FAIL\" will be given. Otherwise, a remark \"PASS\" will be given.\n",
        "\n",
        "Consider the following basic example:"
      ],
      "metadata": {
        "id": "MGtpljjQaA9j"
      }
    },
    {
      "cell_type": "code",
      "source": [
        "x = 5\n",
        "y = 10\n",
        "\n",
        "if x >= 5 and y < 10:\n",
        "    x = x + y\n",
        "    y = x - y\n",
        "else:\n",
        "    x = x - y\n",
        "    y = x + y"
      ],
      "metadata": {
        "id": "bAQHh3DbaGqV"
      },
      "execution_count": null,
      "outputs": []
    },
    {
      "cell_type": "markdown",
      "source": [
        "What result did you get?\n",
        "\n",
        "Finally, you can include an `elif` statement that goes after the `if` command and preceeds `else` command:"
      ],
      "metadata": {
        "id": "xp5Ti77HaLyj"
      }
    },
    {
      "cell_type": "code",
      "source": [
        "if x >= 5 and y < 10:\n",
        "    x = x + y\n",
        "    y = x - y\n",
        "elif x <= 5 and y > 10:\n",
        "    x = 2*x + y\n",
        "    y = 2*x - y\n",
        "else:\n",
        "    x = x - y\n",
        "    y = x + y"
      ],
      "metadata": {
        "id": "G9ZyW94haP74"
      },
      "execution_count": null,
      "outputs": []
    },
    {
      "cell_type": "markdown",
      "source": [
        "And, of course, multiple `elif`s are possible. We consider again the illustration on the grade category of a student. The following is the example:"
      ],
      "metadata": {
        "id": "P6XHK-huaU3U"
      }
    },
    {
      "cell_type": "code",
      "source": [
        "score = 85\n",
        "\n",
        "if score >= 90:\n",
        "    grade = \"A\"\n",
        "elif score >= 80:\n",
        "    grade = \"B\"\n",
        "elif score >= 70:\n",
        "    grade = \"C\"\n",
        "elif score >= 60:\n",
        "    grade = \"D\"\n",
        "else:\n",
        "    grade = \"F\"\n",
        "\n",
        "print(f\"A score of {score} earns a grade of: {grade}\")"
      ],
      "metadata": {
        "id": "E28DViK9aag-"
      },
      "execution_count": null,
      "outputs": []
    },
    {
      "cell_type": "markdown",
      "source": [
        "### **Try These!**\n",
        "\n",
        "1. The following code is supposed to print a message about the relationship between two numbers:\n",
        "\n",
        "  - If the first number is both positive and larger than the second number, print \"Positive and larger\".\n",
        "  - If the first number is equal to the second, print \"Equal\".\n",
        "  - If the first number is negative or the second number is greater, print \"Negative or second is greater\".\n",
        "  - Otherwise, print \"Unclassified\".\n",
        "\n",
        "  Complete the if-elif-else structure in the space below."
      ],
      "metadata": {
        "id": "FEa7CbwUhb23"
      }
    },
    {
      "cell_type": "code",
      "source": [
        "a = -3\n",
        "b = 5\n",
        "\n",
        "\n"
      ],
      "metadata": {
        "id": "RbNCrnS6h4fj"
      },
      "execution_count": null,
      "outputs": []
    },
    {
      "cell_type": "markdown",
      "source": [
        "2. Without running the code, write down what you think the output will be.\n",
        "Then run it to check your answer.\n",
        "  ```python\n",
        "  x = 4\n",
        "  y = 8\n",
        "  z = 12\n",
        "\n",
        "  if x < y:\n",
        "      if y < z:\n",
        "          result = x + y + z\n",
        "      else:\n",
        "         result = x * y * z\n",
        "  else:\n",
        "      result = 0\n",
        "\n",
        "  print(result)\n",
        "  ```\n",
        "  **Questions:**\n",
        "  - What is the value of result? Why?\n",
        "  - How would the output change if z = 5 instead?\n",
        "\n",
        "3. The following code is supposed to assign \"Pass\" to status if the average of x, y, and z is at least 50, and \"Fail\" otherwise. However, it contains three mistakes (both syntax and logic). Find and fix them.\n",
        "  ```python\n",
        "  x, y, z = 60, 40, 50\n",
        "\n",
        "  if x + y + z / 3 >= 50\n",
        "      status = \"Pass\"\n",
        "  else:\n",
        "      status = \"Fail\"\n",
        "\n",
        "  print Status\n",
        "  ```\n",
        "  **Questions:**\n",
        "  - What are the errors?\n",
        "  - What is the corrected code?\n",
        "  - What does the corrected code print?\n",
        "\n",
        "4. Write a Python program that assigns a value to score and prints the corresponding category:\n",
        "  - If score is at least 90, print \"Outstanding\".\n",
        "  - If score is at least 75 but less than 90, print \"Satisfactory\".\n",
        "  - If score is at least 50 but less than 75, print \"Needs Improvement\".\n",
        "  - If score is below 50, print \"Failing\".\n",
        "  You should make sure that only one category is printed, even if multiple conditions are technically true."
      ],
      "metadata": {
        "id": "aWh7h23xh1tb"
      }
    },
    {
      "cell_type": "markdown",
      "source": [
        "## **Looping Structures**\n",
        "\n",
        "In this section, you will learn how to execute a block of code repeatedly using loops. Python supports two main types of loops: the `for` loop and the `while` loop. Loops are useful when you need to perform the same operation multiple times, especially when working with sequences such as lists or ranges. Loops can iterate over a fixed set of elements or continue based on a given condition. With proper use of loops, programs can automate repetitive tasks efficiently."
      ],
      "metadata": {
        "id": "s9C3kcVKq2Zd"
      }
    },
    {
      "cell_type": "markdown",
      "source": [
        "### ***'for'* Loop**\n",
        "\n",
        "The `for` loop is used to iterate over a sequence such as a list, tuple, string, or a range of numbers. For each element in the sequence, the loop body is executed once. The loop variable takes on the value of each item in the sequence in order.\n",
        "\n",
        "Try the following example to see how `for` loops work:"
      ],
      "metadata": {
        "id": "5acK17TAavTO"
      }
    },
    {
      "cell_type": "code",
      "source": [
        "names = [\"Ana\", \"Ben\", \"Carlos\"]\n",
        "\n",
        "for name in names:\n",
        "    print(f\"Hello, {name}!\")\n",
        "```\n",
        "You can also use the `range()` function to generate a sequence of numbers:\n",
        "```python\n",
        "for i in range(5):\n",
        "    print(i)"
      ],
      "metadata": {
        "id": "8dGCBq84a0l1"
      },
      "execution_count": null,
      "outputs": []
    },
    {
      "cell_type": "markdown",
      "source": [
        "You can use the `for` loop to perform calculations:"
      ],
      "metadata": {
        "id": "HsUkL59Ba5Ol"
      }
    },
    {
      "cell_type": "code",
      "source": [
        "total = 0\n",
        "\n",
        "for i in range(1, 6):\n",
        "    total += i\n",
        "\n",
        "print(\"The sum of numbers from 1 to 5 is:\", total)"
      ],
      "metadata": {
        "id": "2Mvhry9-a9Rd"
      },
      "execution_count": null,
      "outputs": []
    },
    {
      "cell_type": "markdown",
      "source": [
        "### ***'while'* Loop**\n",
        "\n",
        "The `while` loop continues to execute a block of code **as long as a condition is true**. This is useful when you don't know in advance how many times the loop should run, but you do know the condition that must remain true.\n",
        "\n",
        "Try the following example:"
      ],
      "metadata": {
        "id": "BMK58bFVbBZF"
      }
    },
    {
      "cell_type": "code",
      "source": [
        "count = 0\n",
        "\n",
        "while count < 5:\n",
        "    print(\"Count is:\", count)\n",
        "    count += 1"
      ],
      "metadata": {
        "id": "hiP8A2JRbFAl"
      },
      "execution_count": null,
      "outputs": []
    },
    {
      "cell_type": "markdown",
      "source": [
        "Make sure that the condition will eventually become false, or else you will create an infinite loop. An example of an infinite loop is given below:"
      ],
      "metadata": {
        "id": "OVFIOoypbLAn"
      }
    },
    {
      "cell_type": "code",
      "source": [
        "x = 3\n",
        "\n",
        "while x > 0:\n",
        "    print(x)\n",
        "    x += 1\n",
        "\n",
        "print(\"Liftoff!\")"
      ],
      "metadata": {
        "id": "5I5eWJ8jbPPS"
      },
      "execution_count": null,
      "outputs": []
    },
    {
      "cell_type": "markdown",
      "source": [
        "### **Using *'break'* and *'continue'***\n",
        "\n",
        "Both `for` and `while` loops can use `break` and `continue` to control loop execution:\n",
        "- `break` stops the loop entirely.\n",
        "- `continue` skips the rest of the current iteration and moves to the next one.\n",
        "\n",
        "Example using `break`:"
      ],
      "metadata": {
        "id": "Hj5mx6aibTvR"
      }
    },
    {
      "cell_type": "code",
      "source": [
        "for i in range(10):\n",
        "    if i == 5:\n",
        "        break\n",
        "        print(i)"
      ],
      "metadata": {
        "id": "z-Drc5P5bYFw"
      },
      "execution_count": null,
      "outputs": []
    },
    {
      "cell_type": "markdown",
      "source": [
        "Example using `continue`:"
      ],
      "metadata": {
        "id": "jWGMYjW-bcBK"
      }
    },
    {
      "cell_type": "code",
      "source": [
        "for i in range(5):\n",
        "    if i == 2:\n",
        "        continue\n",
        "        print(i)"
      ],
      "metadata": {
        "id": "orL0iPcybiMj"
      },
      "execution_count": null,
      "outputs": []
    },
    {
      "cell_type": "markdown",
      "source": [
        "### **Nested *'for'* and *'while'* Loops**\n",
        "\n",
        "A `for` loop can contain another `for` loop inside it. This is called a nested loop. It is often used to work with multi-dimensional data, such as matrices or grids.\n",
        "\n",
        "Here's an example that prints a multiplication table:"
      ],
      "metadata": {
        "id": "vWw9ghufbm5h"
      }
    },
    {
      "cell_type": "code",
      "source": [
        "for i in range(1, 4):\n",
        "    for j in range(1, 4):\n",
        "        print(f\"{i} × {j} = {i * j}\")\n",
        "    print(\"---\")"
      ],
      "metadata": {
        "id": "lmiccXFZbror"
      },
      "execution_count": null,
      "outputs": []
    },
    {
      "cell_type": "markdown",
      "source": [
        "A `while` loop can also be nested inside another `while` loop. This is used when both the outer and inner conditions depend on runtime variables.\n",
        "\n",
        "Example:"
      ],
      "metadata": {
        "id": "XgsQmHGNbvU1"
      }
    },
    {
      "cell_type": "code",
      "source": [
        "i = 1\n",
        "\n",
        "while i <= 3:\n",
        "    j = 1\n",
        "    while j <= 3:\n",
        "        print(f\"i = {i}, j = {j}\")\n",
        "        j += 1\n",
        "    i += 1"
      ],
      "metadata": {
        "id": "MW6ByVUmbyok"
      },
      "execution_count": null,
      "outputs": []
    },
    {
      "cell_type": "markdown",
      "source": [
        "You can place a `for` loop inside a `while` loop. This can be useful when you want to repeat a fixed sequence multiple times under a general condition.\n",
        "\n",
        "Example:"
      ],
      "metadata": {
        "id": "IvhlDqELb2zY"
      }
    },
    {
      "cell_type": "code",
      "source": [
        "counter = 0\n",
        "\n",
        "while counter < 2:\n",
        "    print(f\"Round {counter + 1}:\")\n",
        "    for i in range(3):\n",
        "        print(f\" Step {i + 1}\")\n",
        "    counter += 1"
      ],
      "metadata": {
        "id": "mAxnWlObb75k"
      },
      "execution_count": null,
      "outputs": []
    },
    {
      "cell_type": "markdown",
      "source": [
        "You can also place a `while` loop inside a `for` loop. This is useful when you want to process each item in a list until a condition is met.\n",
        "\n",
        "Example:"
      ],
      "metadata": {
        "id": "f4v9WS1Yb_08"
      }
    },
    {
      "cell_type": "code",
      "source": [
        "items = [3, 2, 1]\n",
        "\n",
        "for item in items:\n",
        "    print(f\"Counting down from {item}:\")\n",
        "    while item > 0:\n",
        "        print(item)\n",
        "        item -= 1\n",
        "    print(\"Done.\\n\")"
      ],
      "metadata": {
        "id": "GUyRHLcBcECW"
      },
      "execution_count": null,
      "outputs": []
    },
    {
      "cell_type": "markdown",
      "source": [
        "### **Try These!**\n",
        "\n",
        "1. Write a Python program that uses a `for` loop to compute the sum of all **even numbers** from 1 to 100. Use the `continue` statement to skip odd numbers.\n",
        "\n",
        "\n",
        "2. Write a Python program that uses a `while` loop to find the **smallest prime number** greater than 50. When you find the number, use the `break` statement to exit the loop and print the result.\n",
        "\n",
        "3. You have the list:\n",
        "   ```python\n",
        "   numbers = [2, 4, 6, 8, 10, 12]\n",
        "   ```\n",
        "   Write a `for` loop that prints each number except the number 8. When 8 is encountered, print \"Skipping 8\" and continue to the next number using the continue statement.\n",
        "\n",
        "4. You are given the list:\n",
        "  ```python\n",
        "  values = [5, 3, 7, -1, 9, 2]\n",
        "  ```\n",
        "  Write a `for` loop that prints each number until a negative number is encountered. When a negative number appears, print \"Negative number found: number\" and stop the loop using break.\n",
        "\n",
        "5. Write a nested loop program that prints all pairs $(i, j)$ where $i$ is from 1 to 3 and $j$ is from 1 to 3. However:\n",
        "  - If $i$ equals $j$, skip printing that pair using continue.\n",
        "  - If the pair $(i, j)$ equals $(2, 3)$, stop all loops completely using break."
      ],
      "metadata": {
        "id": "Lmvmhl4Fjn2C"
      }
    },
    {
      "cell_type": "markdown",
      "source": [
        "# **Module 3: Functions in Python**\n",
        "\n",
        "Welcome to Module 3! We will to discuss some intrinsic functions in Python that we often use in programming. Moreover, we will define new functions that are specific to the tasks that we need to perform repititively throughout the main program.\n",
        "\n",
        "\n",
        "## **Introduction**\n",
        "\n",
        "Function is a fundamental concept in programming which allows the user to organize the code into reusable blocks. A *function*  is a block of code that performs a specific task. It takes input, processes the input and returns an output. Functions help your code to be more readable and easier to maintain. In this module, we are going to discuss some of the intrinsic functions in Python. Also, we are going to define new functions to perform specific tasks."
      ],
      "metadata": {
        "id": "l3BgzwaGn6qp"
      }
    },
    {
      "cell_type": "markdown",
      "source": [
        "## **Learning Outcomes**\n",
        "\n",
        "At the end of this module, the student should be able to:\n",
        "\n",
        "1. use intrinsic functions in Python\n",
        "2. define and call a function in Python,\n",
        "3. define anonymous functions in Python,\n",
        "4. create a code using different functions, both intrinsic and defined functions."
      ],
      "metadata": {
        "id": "1uBxz7SKo5qD"
      }
    },
    {
      "cell_type": "markdown",
      "source": [
        "## **Built-in Functions**\n",
        "\n",
        "Built-in functions are pre-defined functions available in many programming languages, including Python. They perform common tasks and are always accessible without needing to import any modules. Here are some examples of Python's built-in functions:\n",
        "\n",
        "1. print(): prints to the standard output device.\n",
        "```python\n",
        "print(\"Hello, world!\")\n",
        "```\n",
        "\n",
        "2. all(): returns True if all items in an iterable are true.\n",
        "``` python\n",
        "print(all([True, False, True])) #gets the logical value of True, False and True\n",
        "# Output: False\n",
        "```\n",
        "```python\n",
        "print(all([True, True]) #gets the logical value of True and True\n",
        "#Output: True\n",
        "```\n",
        "\n",
        "3. any(): returns True if any item in an iterable is true.\n",
        "``` python\n",
        "print(all([True, False, True]))\n",
        "# Output: True\n",
        "```\n",
        "\n",
        "4. ascii(): returns a readable version of an object, replacing non-ASCII characters with escape characters.\n",
        "\n",
        "\n",
        "5. bin(): converts an integer to a binary string.\n",
        "``` python\n",
        "print(bin(10))\n",
        "# Output: 1010\n",
        "```\n",
        "```python\n",
        "print(bin(365))\n",
        "#Output: 101101101\n",
        "```\n",
        "\n",
        "6. bool(): returns the boolean value of an object.\n",
        "``` python\n",
        "print(bool(0))\n",
        "# Output: False\n",
        "print(bool(1))\n",
        "# Output: True\n",
        "```\n",
        "7. chr(): returns a character from the specified Unicode code. The capital case of the English alphabet have a values ranging from 65 to 90 and their lower cases have values from 97 to 122.\n",
        "```python\n",
        "print(chr(78))\n",
        "# Output: N\n",
        "```\n",
        "```python\n",
        "print(chr(63))\n",
        "#Output: ?\n",
        "```\n",
        "\n",
        "8. ord(): returns the Unicode code of a character.\n",
        "```python\n",
        "print(ord('A'))\n",
        "#Output: 65\n",
        "```\n",
        "```python\n",
        "print(ord('z'))\n",
        "#Output: 122\n",
        "```\n",
        "\n",
        "9. len(): returns the length of an object.\n",
        "```python\n",
        "print(len('Angelo'))\n",
        "#Output: 6\n",
        "```\n",
        "```python\n",
        "print(len([1, 2, 3]))\n",
        "#Output: 3\n",
        "```\n",
        "10. abs(): returns the absolute value of a number.\n",
        "``` python\n",
        "print(abs(-3.5)) #gets the absolute value of -3.5\n",
        "# Output: 3.5\n",
        "```\n",
        "``` python\n",
        "print(abs(110)) #gets the absolute value of 100\n",
        "#Output: 100\n",
        "```\n",
        "\n",
        "11. dict(): returns a dictionary.\n",
        "```python\n",
        "my_dict = dict(name=\"Angelo\", age=28)\n",
        "print(my_dict)\n",
        "# Output: {'name': 'Alice', 'age': 25}\n",
        "```\n",
        "\n",
        "12. input(): allows user input from the console\n",
        "```python\n",
        "user = input('Write your name:')\n",
        "#The program will pause and wait for the user to enter a value. The default variable type for input function is string.\n",
        "```\n",
        "\n",
        "13. float(): changes a numerical value to decimal\n",
        "```python\n",
        "print(float(3))\n",
        "#Output: 3.0\n",
        "```\n",
        "```python\n",
        "print(float(1/3))\n",
        "#Output:0.3333333333333333\n",
        "```\n",
        "\n",
        "14. int(): changes a numerical value to an integer, truncating the decimal part.\n",
        "```python\n",
        "print(int(-2.05))\n",
        "#Output: -2\n",
        "```\n",
        "```python\n",
        "print(int(1/3))\n",
        "#Output: 0\n",
        "```\n",
        "\n",
        "15. filter(): returns the element(s) of a given list or array if  they pass a certain condition defined in a function.\n",
        "```python\n",
        "data = [-1,-2,0, 1, 2, 3]\n",
        "def grtr_than_0(num):\n",
        "  ''''check if the number is greater than zero''''\n",
        "  return num > 0\n",
        "greater_than_0 = filter(grtr_than_0,data)\n",
        "print(list(greater_than_0))\n",
        "```\n",
        "\n",
        "For a complete list of built-in functions in Python, we can check the official documentation in Python: https://docs.python.org/3/library/functions.html"
      ],
      "metadata": {
        "id": "fSAx3PgZpUBl"
      }
    },
    {
      "cell_type": "markdown",
      "source": [
        "## **Defining a Function**\n",
        "\n",
        "A function is a group of related statements that perform a specific task.  Functions also help break our program into smaller and modular chunks. It helps the program more organized and manageable when our programs become larger and larger. Also, it avoids repetition and makes code reusable.\n",
        "\n",
        "### Syntax of defining a function\n",
        "\n",
        " ``` python\n",
        " '''docstring: function description'''\n",
        " def {function_name}(input):\n",
        " executable statements\n",
        " return value\n",
        "```\n",
        "\n",
        "* **def** is the term use at the start of defining a function.\n",
        "* *function_name* should be unique to avoid confusion to other functions in the program\n",
        "* The input are the parameters that are needed for the newly defined function to be performed.\n",
        "* The *docstring* often contains the function description.\n",
        "* We sometimes put the **return** syntax to return a value from the program.\n",
        "\n",
        "Example:\n",
        "```python\n",
        "'''Define a function that will greet the user.'''\n",
        "\n",
        "def greet(name):\n",
        "  print(f\"Hi, {name}! Welcome to this application.\")\n",
        "```\n",
        "\n",
        "### Calling a function\n",
        "\n",
        "To call a defined function, we use the function's name together with appropriate input. To use the previous example in the main program, we just type <span style = 'color:blue'> greet</span>(name). The argument *name* depends on the value assigned to it by the user.\n",
        "\n",
        "```python\n",
        "name = 'Angelo'\n",
        "greet(name)\n",
        "\n",
        "# The expected output is:\n",
        "# Hi, Angelo! Welcome to this application.\n",
        "```\n",
        "\n",
        "### Return statement\n",
        "\n",
        "``` python\n",
        "return value\n",
        "```\n",
        "\n",
        "The *return* syntax will give you the result of evaluating expressions in your function. If there is no expression or the *return* function is not in the function itself, the returned value will be *None*.\n",
        "\n"
      ],
      "metadata": {
        "id": "uPgz0oIDw3zV"
      }
    },
    {
      "cell_type": "code",
      "source": [
        "'''Define a function that will greet the user.'''\n",
        "\n",
        "def greet(name):\n",
        "  print(f\"Hi, {name}! Welcome to this application.\")\n",
        "  return name\n",
        "\n",
        "name = 'Angelo'\n",
        "greet(name)"
      ],
      "metadata": {
        "colab": {
          "base_uri": "https://localhost:8080/",
          "height": 53
        },
        "id": "r0QZH2LNdPew",
        "outputId": "5d5dae63-4e70-4eaa-ec7d-bf307519c501"
      },
      "execution_count": null,
      "outputs": [
        {
          "output_type": "stream",
          "name": "stdout",
          "text": [
            "Hi, Angelo! Welcome to this application.\n"
          ]
        },
        {
          "output_type": "execute_result",
          "data": {
            "text/plain": [
              "'Angelo'"
            ],
            "application/vnd.google.colaboratory.intrinsic+json": {
              "type": "string"
            }
          },
          "metadata": {},
          "execution_count": 4
        }
      ]
    },
    {
      "cell_type": "code",
      "source": [
        "''''Change the style of text to uppercase or lowercase'''\n",
        "\n",
        "def shout(text):\n",
        "    return text.upper() #change the text to uppercase letters\n",
        "\n",
        "def whisper(text):\n",
        "    return text.lower() #change the text to lowercase letters\n",
        "\n",
        "def speak(style, message):\n",
        "    return style(message)\n",
        "\n",
        "print(speak(shout, \"hello\"))\n",
        "print(speak(whisper, \"shhhhh\"))"
      ],
      "metadata": {
        "id": "x9j0ry8EjjOu",
        "colab": {
          "base_uri": "https://localhost:8080/"
        },
        "outputId": "0fbc41cb-348a-407c-a0b9-010f02ad4eb1"
      },
      "execution_count": null,
      "outputs": [
        {
          "output_type": "stream",
          "name": "stdout",
          "text": [
            "HELLO\n",
            "shhhhh\n"
          ]
        }
      ]
    },
    {
      "cell_type": "code",
      "source": [
        "''' Create a non-intrinsic Python program that will determine the absolute value of a number. Use the return statement to display the absolute value of a number. '''\n",
        "\n",
        "def abs_value(a): #function name is 'abs_value'\n",
        "  if a >= 0:\n",
        "    return a\n",
        "  else:\n",
        "    return -a\n",
        "\n",
        "print(abs_value(-2.5))\n",
        "print(abs_value(0))\n",
        "print(abs_value(3))"
      ],
      "metadata": {
        "colab": {
          "base_uri": "https://localhost:8080/"
        },
        "id": "Jw1cFtZudqx6",
        "outputId": "47070ebf-a092-4ab8-ca74-b7fc6310c47a"
      },
      "execution_count": null,
      "outputs": [
        {
          "output_type": "stream",
          "name": "stdout",
          "text": [
            "2.5\n",
            "0\n",
            "3\n"
          ]
        }
      ]
    },
    {
      "cell_type": "markdown",
      "source": [
        "###Try these!\n",
        "\n",
        "\n",
        "1. Define a function that will convert temperature from Celcius to Farenheit and vice-versa.\n",
        "\n",
        "2. Define a function that solves for the intersection of two sets.\n",
        "\n",
        "3. Define a function that will for a factorial of a nonnegative integer $n$.\n",
        "\n",
        "4. Define a function that will get the sum of the digits of a number."
      ],
      "metadata": {
        "id": "EtZQpaplfhV3"
      }
    },
    {
      "cell_type": "markdown",
      "source": [
        "## **Lambda Functions**\n",
        "\n",
        "In the previous section, we have discussed how to normally define a function. We are now going to introduce functions that are anonymous called **lambda** functions. To define anonymous functions, we are going to use the keyword **lambda** like **def**\n",
        "\n",
        "The syntax for lambda function is:\n",
        "```python\n",
        "lambda arguments : executable statement\n",
        "```\n",
        "Examples:\n",
        "\n",
        "```python\n",
        "#Gets the absolute value of a number\n",
        "abs_a = lambda a: a if a>=0 else -a\n",
        "\n",
        "print(abs_a(-2.5))\n",
        "print(abs_a(9))\n",
        "print(abs_a(3))\n",
        "```\n",
        "\n",
        "```python\n",
        "#Combine two strings\n",
        "add = lambda a,b: a+b\n",
        "print add(\"1\",\"2\")\n",
        "#Output: 12\n",
        "```\n",
        "\n",
        "Lambda functions can also be used for condition checking. We can use the syntax\n",
        "\n",
        "```python\n",
        "lambda arguments: output1 if condition1 else output2\n",
        "```\n",
        "\n",
        "For example, we want to determine the parity of a number using lambda function.\n",
        "\n",
        "```python\n",
        "parity_num = lambda x: \"positive\" if x>0 else \"negative\" if x<0 else \"zero\"\n",
        "print(parity_num(-120))\n",
        "#Output: negative\n",
        "```\n",
        "\n",
        "Another examples is if we want to know which of the two number is larger.\n",
        "\n",
        "```python\n",
        "larger_num = lambda x,y: x if x>y else y\n",
        "print(larger_num(-2,4))\n",
        "#Output: 4\n",
        "```\n",
        "\n",
        "So, what are the differences between lambda and def keywords?\n",
        "\n",
        "Lambda functions should be single statement only unlike the regular functions that can contain multiple lines of code. Also, lambda functions cannot have *docstring*. We often use lambda function for temporary and short tasks."
      ],
      "metadata": {
        "id": "iT68pMHSe73q"
      }
    },
    {
      "cell_type": "markdown",
      "source": [
        "###Try these!\n",
        "\n",
        "1. Create a lambda function for determining if a number is odd.\n",
        "\n",
        "2. Write a loop that uses a lambda function to add 10 to each number in the list [1, 2, 3, 4, 5] and stores the result in a new list.\n",
        "\n",
        "3. to add more"
      ],
      "metadata": {
        "id": "NP_ggK2c0moP"
      }
    },
    {
      "cell_type": "markdown",
      "source": [
        "## **Project**\n",
        "\n",
        "From the previous modules, you have created a working program. However, you noticed that your code is becoming longer as you add more tasks. Additionally, some of these tasks are used repeatedly throughout your program. To make the program, shorter, more efficient and easier to debug, you decide to use the topics in this module by defining your own functions for the repeating tasks in your project. Some of these tasks include:\n",
        "\n",
        "1. Rewrite your programs from Module 2 into reusable functions, such as:\n",
        "  * compute_age_distribution(data)\n",
        "  * calculate_average_screen_time(data)\n",
        "  * find_most_common_os(data)\n",
        "  * percent_with_positive_health(data)\n",
        "\n",
        "2. Define a function that will do the following tasks:\n",
        "  * determine the impact of phone usage on academic performance\n",
        "  * determine the student with the highest frequency of academic use\n",
        "  * count the number of student using each OS.\n",
        "\n",
        "2. Add at least one lambda function that accepts optional parameters to filter by gender, age group, or OS.\n",
        "\n",
        "3. Write a main() program that calls these functions and outputs results in a clean report.\n",
        "\n"
      ],
      "metadata": {
        "id": "2SUlQreG6047"
      }
    },
    {
      "cell_type": "markdown",
      "source": [
        "# **Module 4: Modules, Packages, and Libraries**\n",
        "\n"
      ],
      "metadata": {
        "id": "Qa7HUe7bMuyL"
      }
    },
    {
      "cell_type": "markdown",
      "source": [
        "In this Module, you will learn about how different subprograms can be integrated into a single compilations, as well as how you can call them in your main program."
      ],
      "metadata": {
        "id": "svAq_bRb66Wm"
      }
    },
    {
      "cell_type": "markdown",
      "source": [
        "## **Learning Outcomes**\n",
        ">At the end of this module, you should be able to:\n",
        "- import a Python built-in module, package, or library\n",
        "- build a module;\n",
        "- perform operations on arrays using the NumPy library;\n",
        "- analyze data using the Pandas library; and\n",
        "- visualize information using the Matplotlib library."
      ],
      "metadata": {
        "id": "StUES8YfzMBs"
      }
    },
    {
      "cell_type": "markdown",
      "source": [
        "## **Fundamental Concepts**\n",
        "### **Introduction to Modules**\n",
        "After creating all the functions for analyzing the farmer data, you realize that putting these functions together is key to an efficient program. Quickly, you realize that closing the Python interpreter renders all definitions, functions and variables alike, are all lost. There are two ways to go around this problem:\n",
        "- copy all the functions into a single file, potentially making the main program longer and a bit harder to manage and maintain; or\n",
        "- keep the functions in their respective files and try to access them by importing them to the main program\n",
        "    \n",
        "Python has a way to access definitions and statements from a file and use them on a later instance. Python puts these definitions in a file called a *module*. A module as a packaging means can be used in various ways:\n",
        "- they can be *imported* to the *main program* and\n",
        "- they can be imported into another module.\n",
        "\n",
        "    \n",
        "***Illustration***\n",
        "    \n",
        "In the current directory, create a file called `MyModule1.py`\n",
        "    \\begin{verbatim}\n",
        "    FUNC1: some function here that has been coded before\n",
        "    FUNC2: another function that has been coded before\n",
        "    \\end{verbatim}\n",
        "\n",
        "We will now import this module into a main program. In the Python interpreter, type\n",
        "\n",
        "`import MyModule1.py`\n",
        "    \n",
        "Importing a module into the main program as introduced so far does not allow you to directly call the functions it contains through their original names. Instead, you refer to them by `module.function`. For instance, if you want to perform \\textcolor{red}{some operation that FUNC1 can do},\n",
        "    \\begin{verbatim}\n",
        "    XXXX.FUNC1(arguments1)\n",
        "    XXXX.FUNC1(arguments2)\n",
        "    \\end{verbatim}\n",
        "\n",
        "You may also assign a local name to the functions.\n",
        "    \\begin{verbatim}\n",
        "    NAME1 = XXXX.FUNC2\n",
        "    NAME1(arguments1)\n",
        "    \\end{verbatim}\n",
        "\n",
        "\n",
        "***Exercise***\n",
        "\n",
        "Create a Python module that \\textcolor{red}{get something from previous sections} and name it `MyModule2.py`.\n",
        "\n",
        ">The different ways to import modules are summarized below:\n",
        "- basic import: `import math`\n",
        "- importing specific functions: `from math import sqrt`\n",
        "- aliasing for convenience: `import numpy as np`\n"
      ],
      "metadata": {
        "id": "LuiPHJNczXPJ"
      }
    },
    {
      "cell_type": "markdown",
      "source": [
        "## **Exploring Built-in Modules**\n",
        "Python, as a very popular programming language has a wide array of modules that can help a programmer in writing code for most basic tasks. These modules are either built-in or external.\n",
        "\n",
        "Python built-in modules are a collection of libraries that come pre-installed with Python. These modules provide commonly needed operations, saving programmers from the difficulty of installing essential modules during the development process.\n",
        "\n",
        "You may run the command below in the command prompt to view all available modules in your version of Python:\n",
        "`help('modules')`\n",
        "\\textcolor{red}{insert image here of the output}\n",
        "\n",
        "To familiarize ourselves with dealing with Python modules, we focus on the following:\n",
        "- `math`: perform mathematical operations on real numbers\n",
        "- `random`: generate pseudo-random numbers for various distributions\n",
        "\n",
        "***Illustration***\n"
      ],
      "metadata": {
        "id": "QwBdR2aiz2nd"
      }
    },
    {
      "cell_type": "code",
      "source": [
        "import math\n",
        "import random\n",
        "\n",
        "print(math.sqrt(2))\n",
        "print(math.factorial(6))\n",
        "print(random.random())\n",
        "print(random.randrange(10))"
      ],
      "metadata": {
        "id": "m8TrM2h10xDc"
      },
      "execution_count": null,
      "outputs": []
    },
    {
      "cell_type": "markdown",
      "source": [
        "The code `math.sqrt(2)` computes for $\\sqrt{2}$, while `math.factorial(6)` computes for $6!$. The last two lines allows for the generation of uniform random numbers. If you want a single random number from $U[0,1]$ you may use the function `random.random()`. The `random.randrange(start,stop,step)` function in Python's `random` module is used to generate a pseudo-random integer within a specified range. The parameters of this function are described below:\n",
        "- `start` (optional): The beginning of the range (inclusive). If omitted, it defaults to 0.\n",
        "- `stop` (required): The end of the range (exclusive). The generated number will be less than stop.\n",
        "- `step` (optional): The increment between numbers in the sequence. If omitted, it defaults to 1.\n",
        "\n",
        "Hence, in `random.randrange(10)`, `stop = 10` and it generates a random numberfrom $U[0,10]$."
      ],
      "metadata": {
        "id": "W9xDpFwj1V83"
      }
    },
    {
      "cell_type": "markdown",
      "source": [
        ">A complete list of functions in these modules are found in the following links:\n",
        "- https://docs.python.org/3/library/math.html\n",
        "- https://docs.python.org/3/library/random.html\n",
        "\n",
        "We now build our vocabulary:\n",
        "- A *package* in Python is a collection of related modules organized in a directory structure.\n",
        "- A *module* is a single .py file containing Python code, i.e. a single Python file, while a package is a directory that may contain multiple modules and sub-packages.\n",
        "- A *library* is a collection of packages designed to solve specific tasks\n",
        "\n",
        "Python has a multitude of packages and libraries, both built-in and developer-contributed, that can perform many advanced computations. In the next sections, you will be introduced to three commonly-used libraries for analyzing, manipulating, and visualizing data.\n"
      ],
      "metadata": {
        "id": "ekoQVRvJ0oar"
      }
    },
    {
      "cell_type": "markdown",
      "source": [
        "\n",
        "\n",
        "\n",
        "## **Introduction to NumPy**\n",
        "\n",
        "NumPy (Numerical Python) is a powerful library for numerical computations. It provides support for efficient array storage and operations, mathematical and statistical functions, and tools for working with multi-dimensional arrays.\n",
        "\n",
        "You can install Numpy in a variety of ways. The most common way is via pip install. Staty by opening your terminal or command prompt and run\n",
        "\n",
        "`pip install numpy`\n",
        "\n",
        "NumPy is usually included by default in the Anaconda distribution. If it is not available or if you need to reinstall it, you can use the following command in the Anaconda Prompt:\n",
        "\n",
        "`conda install numpy`\n",
        "\n",
        "### **Working with Arrays**\n",
        "Let us start by importing NumPy. Most people use the alias \\texttt{np} as shorthand to keep their code neat and simple.\n",
        "\n",
        "`import numpy as np`\n",
        "\n",
        "Since you have successfully imported, Numpy, let us start making some arrays.\n",
        "\n",
        "\n",
        "\n",
        "\n"
      ],
      "metadata": {
        "id": "51WEW-f80Ps_"
      }
    },
    {
      "cell_type": "code",
      "source": [
        "import numpy as np\n",
        "\n",
        "a = np.array([1, 2, 3])        #A simple 1D array (just a row of numbers)\n",
        "print(a)\n",
        "\n",
        "b = np.array([[1, 2], [3, 4]]) #A 2D array (a 2x2 matrix)\n",
        "print(b)\n",
        "\n",
        "zeros = np.zeros((2, 3))       #An array full of zeros\n",
        "print(zeros)\n",
        "\n",
        "ones = np.ones((3,))           #An array full of ones\n",
        "print(ones)\n",
        "\n",
        "r = np.arange(0, 10, 2)        #An array with a range of numbers\n",
        "print(r)"
      ],
      "metadata": {
        "colab": {
          "base_uri": "https://localhost:8080/"
        },
        "id": "zYxyyjmi4254",
        "outputId": "e6b95e6e-d9f1-4b06-c15b-1ac39847989d"
      },
      "execution_count": null,
      "outputs": [
        {
          "output_type": "stream",
          "name": "stdout",
          "text": [
            "[1 2 3]\n",
            "[[1 2]\n",
            " [3 4]]\n",
            "[[0. 0. 0.]\n",
            " [0. 0. 0.]]\n",
            "[1. 1. 1.]\n",
            "[0 2 4 6 8]\n"
          ]
        }
      ]
    },
    {
      "cell_type": "markdown",
      "source": [
        "### **Operations with Arrays**\n",
        "\n",
        "We will focus on performing basic operations with arrays: addition, subtraction, multiplication, division, and exponentiation.\n"
      ],
      "metadata": {
        "id": "B-4B5OFS5OFP"
      }
    },
    {
      "cell_type": "code",
      "source": [
        "x = np.array([1, 2, 3])\n",
        "y = np.array([4, 5, 6])\n",
        "\n",
        "print(x + y)   # Add\n",
        "print(x - y)   # Subtract\n",
        "print(x * y)   # Multiply\n",
        "print(y / x)   # Divide\n",
        "print(x ** 2)  # Squared"
      ],
      "metadata": {
        "colab": {
          "base_uri": "https://localhost:8080/"
        },
        "id": "ea28T5O85V9Y",
        "outputId": "0d473cd1-82d9-43b8-f057-62d32452ad3c"
      },
      "execution_count": null,
      "outputs": [
        {
          "output_type": "stream",
          "name": "stdout",
          "text": [
            "[5 7 9]\n",
            "[-3 -3 -3]\n",
            "[ 4 10 18]\n",
            "[4.  2.5 2. ]\n",
            "[1 4 9]\n"
          ]
        }
      ]
    },
    {
      "cell_type": "markdown",
      "source": [
        "\n",
        "\n",
        "Notice that in these examples, the operations are performed component-wise. You should not confuse these operations, specifically multiplication, division, and exponentiation, with matrix operations. We will get to these in the next discussion.\n",
        "\n",
        "Consider the two matrices $A = \\begin{bmatrix} 1 & 2 \\\\ 3 & 4 \\end{bmatrix}$  and  $B = \\begin{bmatrix} 5 & 6 \\\\ 7 & 8 \\end{bmatrix}$. To encode this in Python, we write\n",
        "\n"
      ],
      "metadata": {
        "id": "MTSzWIUv5hKC"
      }
    },
    {
      "cell_type": "code",
      "source": [
        "A = np.array([[1, 2], [3, 4]])\n",
        "B = np.array([[5, 6], [7, 8]])\n",
        "\n",
        "print(A)\n",
        "print(B)"
      ],
      "metadata": {
        "colab": {
          "base_uri": "https://localhost:8080/"
        },
        "id": "o7qMNcsg5sHh",
        "outputId": "5ded3bea-e55e-40c2-8cd8-b0713e2c793e"
      },
      "execution_count": null,
      "outputs": [
        {
          "output_type": "stream",
          "name": "stdout",
          "text": [
            "[[1 2]\n",
            " [3 4]]\n",
            "[[5 6]\n",
            " [7 8]]\n"
          ]
        }
      ]
    },
    {
      "cell_type": "markdown",
      "source": [
        "Similar to the earlier operations with one-dimensional arrays, matrix addition and subtraction are performed element-wise.\n",
        "\n"
      ],
      "metadata": {
        "id": "B80E9aSF52lE"
      }
    },
    {
      "cell_type": "code",
      "source": [
        "C = A + B  # Addition\n",
        "D = A - B  # Subtraction\n",
        "\n",
        "print(C)\n",
        "print(D)"
      ],
      "metadata": {
        "colab": {
          "base_uri": "https://localhost:8080/"
        },
        "id": "il54n6DD6Bjs",
        "outputId": "70514a04-2cdf-4619-9512-f31a8813963e"
      },
      "execution_count": null,
      "outputs": [
        {
          "output_type": "stream",
          "name": "stdout",
          "text": [
            "[[ 6  8]\n",
            " [10 12]]\n",
            "[[-4 -4]\n",
            " [-4 -4]]\n"
          ]
        }
      ]
    },
    {
      "cell_type": "markdown",
      "source": [
        "There are two types of multiplication in NumPy as illustrated below.\n",
        "\n",
        "- *Element-wise multiplication* (Hadamard product):\n",
        "\n",
        "  `E = A * B`\n",
        "\n",
        "- *Matrix multiplication* (dot product):\n",
        "\n",
        "  `F = A @ B` or `np.dot(A, B)`\n",
        "\n"
      ],
      "metadata": {
        "id": "HorPVKYV6KPH"
      }
    },
    {
      "cell_type": "code",
      "source": [
        "E = A * B\n",
        "F = A @ B\n",
        "\n",
        "print(E)\n",
        "print(F)"
      ],
      "metadata": {
        "colab": {
          "base_uri": "https://localhost:8080/"
        },
        "id": "7CqeGzN46exx",
        "outputId": "69b5c729-e1bd-4c23-fecd-a7f7fa3aa25e"
      },
      "execution_count": null,
      "outputs": [
        {
          "output_type": "stream",
          "name": "stdout",
          "text": [
            "[[ 5 12]\n",
            " [21 32]]\n",
            "[[19 22]\n",
            " [43 50]]\n"
          ]
        }
      ]
    },
    {
      "cell_type": "markdown",
      "source": [
        "To get the transpose of a matrix we use `A.T`\n",
        "\n",
        "For a non-singular matrix, you can compute the its inverse through `np.linalg.inv(A)`\n",
        "\n",
        "To compute the determinant and rank of a matrix we use\n",
        "\n",
        "```\n",
        "np.linalg.det(A)\n",
        "np.linalg.matrix_rank(A)\n",
        "```\n",
        "\n",
        "\n",
        "\n",
        "\n"
      ],
      "metadata": {
        "id": "EZGB4Wze6vnf"
      }
    },
    {
      "cell_type": "code",
      "source": [
        "print('The transpose of A is\\n',A.T )\n",
        "print('Its determinant is ',np.linalg.det(A))\n",
        "print('Since A is non-singular, we can compute its inverse as\\n',np.linalg.inv(A))\n",
        "print('Its rank is ',np.linalg.matrix_rank(A))"
      ],
      "metadata": {
        "colab": {
          "base_uri": "https://localhost:8080/"
        },
        "id": "L79Le2G4Bpl4",
        "outputId": "83c37372-b1f4-4f91-8a7f-4937e74db946"
      },
      "execution_count": null,
      "outputs": [
        {
          "output_type": "stream",
          "name": "stdout",
          "text": [
            "The transpose of A is\n",
            " [[1 3]\n",
            " [2 4]]\n",
            "Its determinant is  -2.0000000000000004\n",
            "Since A is non-singular, we can compute its inverse as\n",
            " [[-2.   1. ]\n",
            " [ 1.5 -0.5]]\n",
            "Its rank is  2\n"
          ]
        }
      ]
    },
    {
      "cell_type": "markdown",
      "source": [
        "Clearly, with these examples, we see how NumPy simplifies the basic operations which usually will require looping structure to perform.\n",
        "\n",
        "### **Some Widely-used NumPy Functions**\n",
        "\n",
        "Now let’s look at some of the most common functions you’ll probably use right away.\n"
      ],
      "metadata": {
        "id": "3jJDo1Z6B1GV"
      }
    },
    {
      "cell_type": "code",
      "source": [
        "a = np.array([2, 4, 6])\n",
        "\n",
        "print(np.sum(a))     # Total sum\n",
        "print(np.mean(a))    # Average\n",
        "print(np.max(a))     # Biggest number\n",
        "print(np.min(a))     # Smallest number\n",
        "print(np.std(a))     # Standard deviation"
      ],
      "metadata": {
        "colab": {
          "base_uri": "https://localhost:8080/"
        },
        "id": "mKHC4xW17VOt",
        "outputId": "1c0b4406-f78d-4b7a-fd56-1d4eb07dbe98"
      },
      "execution_count": null,
      "outputs": [
        {
          "output_type": "stream",
          "name": "stdout",
          "text": [
            "12\n",
            "4.0\n",
            "6\n",
            "2\n",
            "1.632993161855452\n"
          ]
        }
      ]
    },
    {
      "cell_type": "markdown",
      "source": [
        "### **Reshaping Arrays and Indexing Array Elements**\n",
        "\n",
        "Arrays shapes are often important when using built-in functions in Python, as some of them requires specific array structures to function properly. Let us look at the $2 \\times 3$ matrix $A = \\begin{bmatrix} 1 & 2 & 3\\\\ 4 & 5 & 6 \\end{bmatrix}$ as example. We create such an array using\n",
        "```\n",
        "arr = np.array([[1, 2, 3], [4, 5, 6]])\n",
        "```\n",
        "\n",
        "\n",
        "- **Check the shape or dimension of the array**\n",
        "```\n",
        "arr.shape\n",
        "np.shape(arr)\n",
        "```\n",
        "- **Change shape (reshape to 3 rows, 2 columns)**\n",
        "```\n",
        "arr.reshape(3, 2)\n",
        "```\n",
        "- **Change shape (turn the array into a row matrix)**\n",
        "```\n",
        "np.ndarray.flatten(arr)\n",
        "```\n",
        "\n",
        "Certain operations usually require us to use only specific elements of an array.\n",
        "- **Indexing a specific element (row 1, column 2)**\n",
        "```\n",
        "arr[1, 2]\n",
        "```\n",
        "- **Indexing a specific row (first row)**\n",
        "```\n",
        "arr[0]\n",
        "```\n",
        "- **Indexing a specific column (second column)**\n",
        "```\n",
        "arr[:,1]\n",
        "```\n"
      ],
      "metadata": {
        "id": "-lxN4i-D7JDr"
      }
    },
    {
      "cell_type": "code",
      "source": [
        "arr = np.array([[1, 2, 3], [4, 5, 6]])\n",
        "\n",
        "print('The shape of arr is ',arr.shape)\n",
        "print('Reshaping arr into a 3x2 matrix gives\\n',arr.reshape(3, 2) )\n",
        "print('Turning it into a row matrix, we get ',np.ndarray.flatten(arr))\n",
        "print('The first row of arr is ',arr[0])\n",
        "print('Its element in the (1,2) position is ',arr[1,2])\n",
        "print('Its second column is ',arr[:,1])"
      ],
      "metadata": {
        "colab": {
          "base_uri": "https://localhost:8080/"
        },
        "id": "XzqptKfU7dLo",
        "outputId": "19feb5cc-4c9b-46a8-8474-1f126c040188"
      },
      "execution_count": null,
      "outputs": [
        {
          "output_type": "stream",
          "name": "stdout",
          "text": [
            "The shape of arr is  (2, 3)\n",
            "Reshaping arr into a 3x2 matrix gives\n",
            " [[1 2]\n",
            " [3 4]\n",
            " [5 6]]\n",
            "Turning it into a row matrix, we get  [1 2 3 4 5 6]\n",
            "The first row of arr is  [1 2 3]\n",
            "Its element in the (1,2) position is  6\n",
            "Its second column is  [2 5]\n"
          ]
        }
      ]
    },
    {
      "cell_type": "markdown",
      "source": [
        "Be cautious about the use of the symbols $(\\;)$ and $[\\;]$ in the code. The pair of parenthesis, $(\\;)$, are used for arguments of functions, while the pair of brackets, $[\\;]$, are used for array indexing. Now, try changing the array elements and shapes to explore what happens.\n",
        "\n",
        ">The official NumPy documentation is found here: https://numpy.org/doc/\n",
        "\n"
      ],
      "metadata": {
        "id": "pbpgpMbs7gh7"
      }
    },
    {
      "cell_type": "markdown",
      "source": [
        "***Exercises***\n",
        "1. Make a 1D array with numbers from 0 to 100.\n",
        "2. Create a $3\\times 3$ array filled with ones.\n",
        "3. Find the average of the array: $[1, 3, 7, 5, 9]$.\n",
        "4. Reshape an array of 6 elements into a $2\\times 3$ shape.\n",
        "5. Create two arrays and try adding and multiplying them. Be sure to take care of shape compatibilities.\n"
      ],
      "metadata": {
        "id": "2GX-sdaw7Oib"
      }
    },
    {
      "cell_type": "markdown",
      "source": [
        "## **Introduction to Pandas**\n",
        "\n",
        "Pandas is a Python library used for data manipulation and analysis. It provides two primary data structures.\n",
        "- ***Series*** – a one-dimensional labeled array.\n",
        "- ***DataFrame*** – a two-dimensional labeled data structure (like a table).\n",
        "\n",
        "To install Pandas, be sure that you have Python and *pip* installed. Then run the following command in your terminal or command prompt:\n",
        "\n",
        "`pip install pandas`\n",
        "\n",
        "For Anaconda users, Pandas is usually pre-installed, but if installation is needed, use\n",
        "\n",
        "`conda install pandas`\n",
        "\n",
        "To begin using Pandas, import the library:\n",
        "\n",
        "`import pandas as pd`\n",
        "\n"
      ],
      "metadata": {
        "id": "G6-sdlqx0ZUe"
      }
    },
    {
      "cell_type": "markdown",
      "source": [
        "### **Series and DataFrames**\n",
        "\n",
        "A Series is similar to a column in a spreadsheet. You may create one by using the `Series` function from the `pandas` module.\n"
      ],
      "metadata": {
        "id": "PIQAZeFw73cD"
      }
    },
    {
      "cell_type": "code",
      "source": [
        "import pandas as pd\n",
        "\n",
        "s = pd.Series([10, 20, 30, 40])\n",
        "print(s)"
      ],
      "metadata": {
        "colab": {
          "base_uri": "https://localhost:8080/"
        },
        "id": "z6_REoFN8OSm",
        "outputId": "997a416f-9371-4624-ec20-7b05af1ad493"
      },
      "execution_count": null,
      "outputs": [
        {
          "output_type": "stream",
          "name": "stdout",
          "text": [
            "0    10\n",
            "1    20\n",
            "2    30\n",
            "3    40\n",
            "dtype: int64\n"
          ]
        }
      ]
    },
    {
      "cell_type": "markdown",
      "source": [
        "For easier referenceing, you can also specify custom labels (indices):"
      ],
      "metadata": {
        "id": "GSFj2eti8law"
      }
    },
    {
      "cell_type": "code",
      "source": [
        "s = pd.Series([10, 20, 30], index=['a', 'b', 'c'])\n",
        "print(s['a'])\n",
        "print(s['b'])\n",
        "print(s['c'])"
      ],
      "metadata": {
        "colab": {
          "base_uri": "https://localhost:8080/"
        },
        "id": "Rk93tu2F8U6u",
        "outputId": "bcee3bdb-03b8-4273-cbb5-71346e481367"
      },
      "execution_count": null,
      "outputs": [
        {
          "output_type": "stream",
          "name": "stdout",
          "text": [
            "10\n",
            "20\n",
            "30\n"
          ]
        }
      ]
    },
    {
      "cell_type": "markdown",
      "source": [
        "A **DataFrame**, on the other hand, is a table of data with rows and columns:\n",
        "\n",
        "\n",
        "\n"
      ],
      "metadata": {
        "id": "e4zJI1Ih8dvT"
      }
    },
    {
      "cell_type": "code",
      "source": [
        "data = {\n",
        "    'Name': ['Jane', 'Maica', 'Jerome'],\n",
        "    'Age': [25, 30, 35]\n",
        "}\n",
        "df = pd.DataFrame(data)\n",
        "print(df)"
      ],
      "metadata": {
        "colab": {
          "base_uri": "https://localhost:8080/"
        },
        "id": "cdou-RX59SR9",
        "outputId": "39759134-42de-4ada-e014-10dc99397a90"
      },
      "execution_count": null,
      "outputs": [
        {
          "output_type": "stream",
          "name": "stdout",
          "text": [
            "     Name  Age\n",
            "0    Jane   25\n",
            "1   Maica   30\n",
            "2  Jerome   35\n"
          ]
        }
      ]
    },
    {
      "cell_type": "markdown",
      "source": [
        "As we can think of DataFrames as tables, accessing information from such an object requires the use of some operations. Here are some fundamental operations that we can perform on them.\n",
        "- **View columns and rows:**\n",
        "  ```\n",
        "  df.columns\n",
        "  df.index\n",
        "  ```\n",
        "- **Select a column:**\n",
        "  ```\n",
        "  df['Name']\n",
        "  ```\n",
        "\n",
        "- **Filter rows:**\n",
        "```\n",
        "  df[df['Age'] > 30]\n",
        "```\n",
        "\n",
        "- **Add a new column:**\n",
        "```\n",
        "  df['Score'] = [85, 90, 95]\n",
        "```    \n",
        "- **Descriptive statistics:**\n",
        "```\n",
        "  df.describe()\n",
        "```\n",
        "\n"
      ],
      "metadata": {
        "id": "aG1xNV3K9agY"
      }
    },
    {
      "cell_type": "markdown",
      "source": [
        "### **Working with Data from CSV files**\n",
        "\n",
        "It is often that we are provided with data from an external file. In order to work on them, we would have to read external files, usually in the form of CSV files. Pandas makes it easy to read data from such files.\n",
        "\n",
        "```\n",
        "df = pd.read_csv('data.csv')\n",
        "```\n",
        "\n",
        "Use *df.head()* to preview the first few rows of the dataset.\n",
        "\n",
        "```\n",
        "df.head()\n",
        "```\n",
        "\n",
        "After a simulation finishes, storing the results to an external file makes working on them an available option in the future. Pandas also allows us to do so.\n",
        "\n",
        "To export your DataFrame to a CSV file use\n",
        "\n",
        "```\n",
        "df.to_csv('output.csv', index=False)\n",
        "```\n",
        "\n"
      ],
      "metadata": {
        "id": "MXs4Knon78D1"
      }
    },
    {
      "cell_type": "markdown",
      "source": [
        "***Exercise***\n",
        "1. Create a DataFrame with the following information\n",
        "<table>\n",
        "  <thead>\n",
        "    <tr>\n",
        "      <th>Student_ID</th>\n",
        "      <th>Name</th>\n",
        "      <th>Age</th>\n",
        "      <th>Sex</th>\n",
        "      <th>Class</th>\n",
        "      <th>Math</th>\n",
        "      <th>English</th>\n",
        "      <th>Science</th>\n",
        "    </tr>\n",
        "  </thead>\n",
        "  <tbody>\n",
        "    <tr><td>1001</td><td>Jessa</td><td>16</td><td>Female</td><td>A</td><td>88</td><td>92</td><td>85</td></tr>\n",
        "    <tr><td>1002</td><td>Angelo</td><td>17</td><td>Male</td><td>B</td><td>75</td><td>NaN</td><td>78</td></tr>\n",
        "    <tr><td>1003</td><td>Johnny</td><td>16</td><td>Female</td><td>A</td><td>95</td><td>90</td><td>94</td></tr>\n",
        "    <tr><td>1004</td><td>Aaron</td><td>18</td><td>Male</td><td>B</td><td>64</td><td>70</td><td>68</td></tr>\n",
        "    <tr><td>1005</td><td>Edd</td><td>17</td><td>Female</td><td>C</td><td>78</td><td>85</td><td>NaN</td></tr>\n",
        "    <tr><td>1006</td><td>Allen</td><td>16</td><td>Male</td><td>C</td><td>82</td><td>79</td><td>80</td></tr>\n",
        "    <tr><td>1007</td><td>Jerome</td><td>17</td><td>Female</td><td>A</td><td>NaN</td><td>88</td><td>91</td></tr>\n",
        "  </tbody>\n",
        "</table>\n",
        "\n",
        "\n",
        "2. Clean the data by filling missing values in the subject columns (**Math**, **English**, **Science**) with the *mean score of that subject*.\n",
        "    \n",
        "    - Create a new column called **Average_Score** that stores the average of the three subject scores for each student.\n",
        "    - Create another column called **Status**}, with the following conditions:\n",
        "        - Excellent if **Average_Score** $\\geq$ 96\n",
        "        - Good if $75 \\leq$ **Average_Score** $<$ 96\n",
        "        - Needs Improvement if **Average_Score** $<$ 75\n",
        "    \n",
        "3. Group the data by **Class** and **Sex**, and calculate the **Average_Score** for each group.\n",
        "    \n",
        "4. Sort the original DataFrame by **Average_Score** in *descending* order.\n",
        "    \n",
        "5. Save the cleaned and updated DataFrame to a CSV file named `student_scores_cleaned.csv`.\n",
        "\n",
        "\n"
      ],
      "metadata": {
        "id": "3tPhLglQ8BwO"
      }
    },
    {
      "cell_type": "markdown",
      "source": [
        "## **Introduction to Data Visualization with Matplotlib**\n",
        "\n",
        "Matplotlib is a comprehensive library for creating static, animated, and interactive plots in Python. It is widely used for data visualization in data analysis, research, and machine learning.\n",
        "\n",
        "Use the following command to install Matplotlib with *pip*\n",
        "\n",
        "```\n",
        "pip install matplotlib\n",
        "```\n",
        "\n",
        "If you are using Anaconda, you may use\n",
        "\n",
        "```\n",
        "conda install matplotlib\n",
        "```\n",
        "\n",
        "Users of Python commonly use the alias `plt` when importing Matplotlib.\n",
        "\n",
        "```\n",
        "import matplotlib.pyplot as plt\n",
        "```\n",
        "\n"
      ],
      "metadata": {
        "id": "2LQcqu1O0dJW"
      }
    },
    {
      "cell_type": "markdown",
      "source": [
        "### **Creating a Line Plot and Scatter Plot**\n",
        "\n",
        "The most basic plot in Matplotlib is a line chart. Create two arrays, each containing the coordinates of the points in the line under consideration. For our purpose, we will use arrays $x=[1,2,3,4]$ and $y=[10,20,25,30]$. Using Numpy, write\n",
        "\n",
        "\n",
        "\n"
      ],
      "metadata": {
        "id": "zuvm7HSg999Q"
      }
    },
    {
      "cell_type": "code",
      "source": [
        "import matplotlib.pyplot as plt\n",
        "import numpy as np\n",
        "\n",
        "x = np.array([1, 2, 3, 4])\n",
        "y = np.array([10, 20, 25, 30])\n",
        "\n",
        "plt.plot(x, y)\n",
        "plt.title('Simple Line Plot')     ### specifies a title for the figure\n",
        "plt.xlabel('X-axis')              ### specifies a label for the horizontal axis\n",
        "plt.ylabel('Y-axis')              ### specifies a label for the vertical axis\n",
        "plt.show()"
      ],
      "metadata": {
        "colab": {
          "base_uri": "https://localhost:8080/",
          "height": 472
        },
        "id": "FEbHL9AP9sRI",
        "outputId": "328db8d6-0d09-446a-d686-1db09f3dad2e"
      },
      "execution_count": null,
      "outputs": [
        {
          "output_type": "display_data",
          "data": {
            "text/plain": [
              "<Figure size 640x480 with 1 Axes>"
            ],
            "image/png": "[encoded data removed]"
          },
          "metadata": {}
        }
      ]
    },
    {
      "cell_type": "markdown",
      "source": [
        "Basic customizations of the line plot include the line style, color, and markers.\n",
        "\n",
        "```\n",
        "plt.plot(x, y, color='green', linestyle='--', marker='o')\n",
        "```"
      ],
      "metadata": {
        "id": "HuHjSTXF-C3S"
      }
    },
    {
      "cell_type": "markdown",
      "source": [
        "Most often, meaningful plots include multiple elements. If for instance, we want to combine two curves, they can be plotted in the same figure as follows.\n",
        "\n",
        "\n"
      ],
      "metadata": {
        "id": "mWw8IXrv-STh"
      }
    },
    {
      "cell_type": "code",
      "source": [
        "import matplotlib.pyplot as plt\n",
        "import numpy as np\n",
        "\n",
        "x = np.array([1, 2, 3, 4])\n",
        "y = np.array([10, 20, 25, 30])\n",
        "\n",
        "plt.plot(x, y)\n",
        "plt.title('Simple Line Plot')\n",
        "plt.xlabel('X-axis')\n",
        "plt.ylabel('Y-axis')\n",
        "\n",
        "y2 = np.array([5, 15, 20, 25])\n",
        "plt.plot(x, y, label='Line 1')\n",
        "plt.plot(x, y2, label='Line 2', linestyle='--')\n",
        "plt.legend()\n",
        "plt.show()"
      ],
      "metadata": {
        "colab": {
          "base_uri": "https://localhost:8080/",
          "height": 472
        },
        "id": "yiZCSqHU-YGo",
        "outputId": "0c8eda68-2b27-442d-fb5d-2c172be48540"
      },
      "execution_count": null,
      "outputs": [
        {
          "output_type": "display_data",
          "data": {
            "text/plain": [
              "<Figure size 640x480 with 1 Axes>"
            ],
            "image/png": "[encoded data removed]"
          },
          "metadata": {}
        }
      ]
    },
    {
      "cell_type": "markdown",
      "source": [
        "Another way to visualize relationships between two variables is though the use of scatter plots. Unlike the previous `plt.plot`, here, data is represented as discrete points in  two-dimensional space.  \n",
        "\n"
      ],
      "metadata": {
        "id": "eDKiFrxM-hNY"
      }
    },
    {
      "cell_type": "code",
      "source": [
        "import matplotlib.pyplot as plt\n",
        "import numpy as np\n",
        "\n",
        "x = np.array([1, 2, 3, 4])\n",
        "y = np.array([10, 15, 13, 17])\n",
        "\n",
        "plt.scatter(x, y)\n",
        "plt.title('Scatter Plot')\n",
        "plt.show()\n"
      ],
      "metadata": {
        "id": "zblrF2h8-8ja"
      },
      "execution_count": null,
      "outputs": []
    },
    {
      "cell_type": "markdown",
      "source": [
        "### **Creating Bar Charts**\n",
        "\n",
        "Bar charts are used to compare quantities. Suppose you are observing three quantities $A$, $B$, and $C$ with values 5, 7, and 3 respectively. In order to visualize their comparion we write"
      ],
      "metadata": {
        "id": "-cTrEEIR_MUX"
      }
    },
    {
      "cell_type": "code",
      "source": [
        "import matplotlib.pyplot as plt\n",
        "\n",
        "categories = ['A', 'B', 'C']\n",
        "values = [5, 7, 3]\n",
        "\n",
        "plt.bar(categories, values)\n",
        "plt.title('Bar Chart')\n",
        "plt.show()"
      ],
      "metadata": {
        "colab": {
          "base_uri": "https://localhost:8080/",
          "height": 452
        },
        "id": "JkBJ3UAv_QWY",
        "outputId": "79019a19-c2c4-4480-8c8f-2eee627637a5"
      },
      "execution_count": null,
      "outputs": [
        {
          "output_type": "display_data",
          "data": {
            "text/plain": [
              "<Figure size 640x480 with 1 Axes>"
            ],
            "image/png": "[encoded data removed]"
          },
          "metadata": {}
        }
      ]
    },
    {
      "cell_type": "markdown",
      "source": [
        "\n",
        "### **Creating Histograms**\n",
        "\n",
        "Histograms show the distribution of data. To see how one generates a histogram, let's start with generating an array of 1000 random numbers. Now, try visualizing the distribution of these random numbers using a histogram."
      ],
      "metadata": {
        "id": "om8_XK5x_CwU"
      }
    },
    {
      "cell_type": "code",
      "source": [
        "import matplotlib.pyplot as plt\n",
        "import numpy as np\n",
        "data = np.random.randn(1000)\n",
        "\n",
        "\n",
        "plt.hist(data, bins=30)\n",
        "plt.title('Histogram')\n",
        "plt.show()"
      ],
      "metadata": {
        "colab": {
          "base_uri": "https://localhost:8080/",
          "height": 452
        },
        "id": "sj0UiVCz_bgO",
        "outputId": "40b02fe5-ae2a-45ac-a955-f318a2aeb427"
      },
      "execution_count": null,
      "outputs": [
        {
          "output_type": "display_data",
          "data": {
            "text/plain": [
              "<Figure size 640x480 with 1 Axes>"
            ],
            "image/png": "[encoded data removed]"
          },
          "metadata": {}
        }
      ]
    },
    {
      "cell_type": "markdown",
      "source": [
        "### **Saving Figures**\n",
        "\n",
        "You can save plots to image files using the following code.\n",
        "``` python\n",
        "plt.savefig('plot.png')  # Saves as PNG\n",
        "plt.savefig('plot.pdf')  # Saves as PDF\n",
        "\n",
        "```"
      ],
      "metadata": {
        "id": "ua6gSPy6_eTn"
      }
    }
  ]
}